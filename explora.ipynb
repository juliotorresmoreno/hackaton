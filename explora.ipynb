{
 "cells": [
  {
   "cell_type": "code",
   "execution_count": null,
   "metadata": {},
   "outputs": [],
   "source": [
    "from pyspark import SparkConf, SparkContext, SQLContext, HiveContext\n",
    "from pyspark.sql import SparkSession\n",
    "import pyspark\n",
    "import os"
   ]
  },
  {
   "cell_type": "code",
   "execution_count": null,
   "metadata": {},
   "outputs": [],
   "source": [
    "import json\n",
    "from datetime import datetime"
   ]
  },
  {
   "cell_type": "code",
   "execution_count": null,
   "metadata": {},
   "outputs": [],
   "source": [
    "conf = SparkConf() \\\n",
    "    .setAppName(\"hackaton\") \\\n",
    "    .setMaster('spark://localhost:7077') \\\n",
    "    .set(\"spark.sql.catalogImplementation\",\"hive\") \\\n",
    "    .set(\"spark.jars\", \"/home/juliotorres/hackaton/postgresql-42.2.10.jar\")"
   ]
  },
  {
   "cell_type": "code",
   "execution_count": null,
   "metadata": {},
   "outputs": [],
   "source": [
    "sc = SparkContext(conf=conf)\n",
    "hiveContext = HiveContext(sc)"
   ]
  },
  {
   "cell_type": "code",
   "execution_count": null,
   "metadata": {},
   "outputs": [],
   "source": [
    "sqlContext = SQLContext(sc)"
   ]
  },
  {
   "cell_type": "code",
   "execution_count": null,
   "metadata": {},
   "outputs": [],
   "source": [
    "spark = SparkSession.builder \\\n",
    "    .config(\"spark.sql.warehouse.dir\", \"hdfs://localhost:9000/user/hive/warehouse\") \\\n",
    "    .config(\"spark.sql.uris\", \"thrift://localhost:10000\") \\\n",
    "    .enableHiveSupport() \\\n",
    "    .getOrCreate()"
   ]
  },
  {
   "cell_type": "code",
   "execution_count": null,
   "metadata": {},
   "outputs": [],
   "source": [
    "spark.sql(\"show tables\").show()"
   ]
  },
  {
   "cell_type": "code",
   "execution_count": null,
   "metadata": {},
   "outputs": [],
   "source": [
    "data_path = \"/user/juliotorres\""
   ]
  },
  {
   "cell_type": "code",
   "execution_count": null,
   "metadata": {},
   "outputs": [],
   "source": [
    "history = hiveContext.read.parquet(data_path+'/history')"
   ]
  },
  {
   "cell_type": "code",
   "execution_count": null,
   "metadata": {},
   "outputs": [],
   "source": [
    "candidates = hiveContext.read.parquet(data_path+'/candidates')"
   ]
  },
  {
   "cell_type": "code",
   "execution_count": null,
   "metadata": {},
   "outputs": [],
   "source": [
    "hiveContext.registerDataFrameAsTable(history, 'history')"
   ]
  },
  {
   "cell_type": "code",
   "execution_count": null,
   "metadata": {},
   "outputs": [],
   "source": [
    "hiveContext.sql(\"\"\"\n",
    "    select age\n",
    "      from history\n",
    "     where age > 70\n",
    "  order by age asc\n",
    "\"\"\").collect()"
   ]
  },
  {
   "cell_type": "markdown",
   "metadata": {},
   "source": [
    "```python\n",
    "hiveContext.registerDataFrameAsTable(stages, 'stages')\n",
    "hiveContext.registerDataFrameAsTable(vacants, 'vacants')\n",
    "hiveContext.registerDataFrameAsTable(candidates, 'candidates')\n",
    "hiveContext.registerDataFrameAsTable(applications, 'applications')\n",
    "hiveContext.registerDataFrameAsTable(applicationStages, 'applicationStages')\n",
    "```"
   ]
  },
  {
   "cell_type": "code",
   "execution_count": null,
   "metadata": {},
   "outputs": [],
   "source": [
    "hiveContext.registerDataFrameAsTable(history, 'history')"
   ]
  },
  {
   "cell_type": "code",
   "execution_count": null,
   "metadata": {},
   "outputs": [],
   "source": [
    "hiveContext.sql(\"show tables\").show()"
   ]
  },
  {
   "cell_type": "code",
   "execution_count": null,
   "metadata": {},
   "outputs": [],
   "source": [
    "#new_df = hiveContext.read.json(history.rdd.map(lambda r: r.candidate_educational_institution))\n",
    "\n",
    "def parse(r):\n",
    "    educational_institution = json.loads(r.candidate_educational_institution)\n",
    "    institute_complete  = [ \n",
    "        x['institute'] or ''\n",
    "        for x in educational_institution\n",
    "        if x['in_progress'] == False\n",
    "    ]\n",
    "    institute_incomplete  = [ \n",
    "        x['institute'] or ''\n",
    "        for x in educational_institution\n",
    "        if x['in_progress'] == True\n",
    "    ] \n",
    "    title_complete = [\n",
    "        x['title'] or ''\n",
    "        for x in educational_institution\n",
    "        if x['in_progress'] == False\n",
    "    ]\n",
    "    title_incomplete = [\n",
    "        x['title'] or ''\n",
    "        for x in educational_institution\n",
    "        if x['in_progress'] == True\n",
    "    ]\n",
    "    study_type_complete = [ \n",
    "        x['study_type'] or ''\n",
    "        for x in educational_institution\n",
    "        if x['in_progress'] == False\n",
    "    ]\n",
    "    study_type_incomplete = [ \n",
    "        x['study_type'] or ''\n",
    "        for x in educational_institution\n",
    "        if x['in_progress'] == True\n",
    "    ]\n",
    "    \n",
    "    return (\n",
    "        r.candidate_id, \n",
    "        ' '.join(institute_complete), \n",
    "        ' '.join(institute_incomplete),\n",
    "        ' '.join(title_complete),\n",
    "        ' '.join(title_incomplete),\n",
    "        ' '.join(study_type_complete),\n",
    "        ' '.join(study_type_incomplete),\n",
    "    )\n",
    "\n",
    "df_institute = history \\\n",
    "    .where(\"candidate_educational_institution <> '[]'\") \\\n",
    "    .limit(10) \\\n",
    "    .rdd \\\n",
    "    .map(parse)\n",
    "\n",
    "df_institute = df_institute.toDF([ \n",
    "    'candidate_id', \n",
    "    'candidate_educational_institute_complete', \n",
    "    'candidate_educational_institute_incomplete',\n",
    "    'candidate_educational_title_complete', \n",
    "    'candidate_educational_title_incomplete',\n",
    "    'candidate_educational_study_type_complete',\n",
    "    'candidate_educational_study_type_incomplete',\n",
    "])\n",
    "\n",
    "df_institute.select('candidate_educational_study_type_complete').show()"
   ]
  },
  {
   "cell_type": "code",
   "execution_count": null,
   "metadata": {},
   "outputs": [],
   "source": [
    "history.join(df_institute, \"candidate_id\").show(2)"
   ]
  },
  {
   "cell_type": "code",
   "execution_count": null,
   "metadata": {},
   "outputs": [],
   "source": [
    "hiveContext.sql(\"\"\"\n",
    "    select count(*) conteo\n",
    "      from history a\n",
    "\"\"\").show()"
   ]
  },
  {
   "cell_type": "code",
   "execution_count": null,
   "metadata": {},
   "outputs": [],
   "source": [
    "candidate_salary_m = hiveContext.sql(\"\"\"\n",
    "select percentile_approx(candidate_salary, 0.5) candidate_salary\n",
    "  from history\n",
    " where candidate_salary is not null\n",
    "   and candidate_title_of_profetion = true\n",
    " \"\"\").collect()[0].candidate_salary\n",
    "\n",
    "candidate_salary_m"
   ]
  },
  {
   "cell_type": "code",
   "execution_count": null,
   "metadata": {},
   "outputs": [],
   "source": [
    "tmp = history \\\n",
    "    .where(\"candidate_educational_institution <> '[]' and candidate_educational_institution is not null\") \\\n",
    "    .limit(1) \\\n",
    "    .selectExpr(\n",
    "        \"\"\"candidate_email      <> '' and candidate_email is not null as candidate_has_email\"\"\",\n",
    "        \"\"\"candidate_first_name <> '' and candidate_first_name is not null as candidate_has_first_name\"\"\",\n",
    "        \"\"\"candidate_last_name  <> '' and candidate_last_name is not null as candidate_has_last_name\"\"\",\n",
    "        \"\"\"candidate_phone      <> '' and candidate_phone is not null as candidate_has_phone\"\"\",\n",
    "\n",
    "        \"\"\"CAST(datediff(\n",
    "            current_date(), \n",
    "            TO_DATE(CAST(UNIX_TIMESTAMP(candidate_birthdate,'yyyy-MM-dd') AS TIMESTAMP))\n",
    "           )/365 as integer) as age\"\"\",\n",
    "\n",
    "        \"\"\"case when candidate_gender = 'male' then 'm'\n",
    "                when candidate_gender = 'female' then 'f' \n",
    "           else 'u' end as candidate_gender\"\"\",\n",
    "\n",
    "        \"\"\"case when candidate_identification_type is null then 100 \n",
    "           else candidate_identification_type \n",
    "           end candidate_identification_type\"\"\",\n",
    "\n",
    "        \"\"\"candidate_identification_number <> '' and \n",
    "           candidate_identification_number is not null \n",
    "           as candidate_has_identification_number\"\"\",\n",
    "\n",
    "        \"\"\"case when candidate_city <> '' and candidate_city is not null then candidate_city \n",
    "           else 'unknow' end as candidate_city\"\"\",\n",
    "\n",
    "        \"\"\"case when candidate_education_level <> '' and candidate_education_level is not null then candidate_education_level \n",
    "           else 'unknow' end as candidate_education_level\"\"\",\n",
    "\n",
    "        \"\"\"case when candidate_salary is null then %s \n",
    "           else candidate_salary end as candidate_salary\"\"\" % candidate_salary_m,\n",
    "\n",
    "        \"\"\"case when candidate_profile_description is null then ''\n",
    "           else candidate_profile_description end as candidate_profile_description\"\"\",\n",
    "\n",
    "        \"\"\"case when candidate_withow_experience is null then false \n",
    "           else candidate_withow_experience = 1 end candidate_withow_experience\"\"\",\n",
    "\n",
    "        \"\"\"case when candidate_withow_studies is null then false \n",
    "           else candidate_withow_studies = 1 end candidate_withow_studies\"\"\",\n",
    "\n",
    "        \"\"\"case when candidate_sectors is null then 'oficios varios'\n",
    "           else candidate_sectors end as candidate_sectors\"\"\",\n",
    "\n",
    "        \"\"\"case when candidate_title_of_profetion is null then false \n",
    "           else candidate_title_of_profetion = 1 end candidate_title_of_profetion\"\"\",\n",
    "\n",
    "        \"\"\"case when candidate_civil_status is null then 'unknow'\n",
    "           else candidate_civil_status end candidate_civil_status\"\"\",\n",
    "\n",
    "        \"\"\"candidate_presentation is not null candidate_has_presentation\"\"\",\n",
    "        # jalar metadata\n",
    "\n",
    "        \"\"\"candidate_educational_institution\"\"\",\n",
    "    \n",
    "    ) \n",
    "\n",
    "tmp"
   ]
  },
  {
   "cell_type": "code",
   "execution_count": null,
   "metadata": {},
   "outputs": [],
   "source": [
    "datetime.strptime('2018-01-01', '%Y-%m-%d')"
   ]
  },
  {
   "cell_type": "code",
   "execution_count": null,
   "metadata": {},
   "outputs": [],
   "source": [
    "None or 'ss'"
   ]
  },
  {
   "cell_type": "code",
   "execution_count": null,
   "metadata": {},
   "outputs": [],
   "source": [
    "tmp"
   ]
  },
  {
   "cell_type": "code",
   "execution_count": null,
   "metadata": {},
   "outputs": [],
   "source": [
    "history \\\n",
    "    .where(\"candidate_educational_institution <> '[]'\") \\\n",
    "    .select('candidate_educational_institution') \\\n",
    "    .limit(3).collect()"
   ]
  },
  {
   "cell_type": "code",
   "execution_count": null,
   "metadata": {},
   "outputs": [],
   "source": []
  },
  {
   "cell_type": "code",
   "execution_count": null,
   "metadata": {},
   "outputs": [],
   "source": [
    "tmp[0].candidate_educational_institution"
   ]
  },
  {
   "cell_type": "code",
   "execution_count": null,
   "metadata": {},
   "outputs": [],
   "source": [
    "candidate_salary_m = hiveContext.sql(\"\"\"\n",
    "select count(1)\n",
    "  from history \n",
    " where candidate_civil_status is not null\n",
    " limit 10\n",
    " \"\"\").show()"
   ]
  },
  {
   "cell_type": "code",
   "execution_count": null,
   "metadata": {},
   "outputs": [],
   "source": [
    "history \\\n",
    "    .select(\"candidate_sectors\") \\\n",
    "    .where(\"candidate_sectors is not null\") \\\n",
    "    .where(\"candidate_sectors like '%Tecnica%'\") \\\n",
    "    .distinct() \\\n",
    "    .collect()[:10]"
   ]
  },
  {
   "cell_type": "code",
   "execution_count": null,
   "metadata": {},
   "outputs": [],
   "source": [
    "candidates.select(\"title_of_profetion\").distinct().limit(10).collect()"
   ]
  },
  {
   "cell_type": "code",
   "execution_count": null,
   "metadata": {},
   "outputs": [],
   "source": [
    "import pandas as pd"
   ]
  },
  {
   "cell_type": "code",
   "execution_count": null,
   "metadata": {},
   "outputs": [],
   "source": [
    "df = pd.read_csv(\"./data/Candidates.csv\",header=None)"
   ]
  },
  {
   "cell_type": "code",
   "execution_count": null,
   "metadata": {},
   "outputs": [],
   "source": [
    "df.iloc[:,17].unique()"
   ]
  },
  {
   "cell_type": "code",
   "execution_count": null,
   "metadata": {},
   "outputs": [],
   "source": [
    "hiveContext.sql(\"\"\"\n",
    "    select *\n",
    "      from history a\n",
    "     where candidate_email is not null\n",
    "     limit 100\n",
    "\"\"\").columns"
   ]
  },
  {
   "cell_type": "code",
   "execution_count": null,
   "metadata": {},
   "outputs": [],
   "source": [
    "hiveContext.sql(\"\"\"\n",
    "    select *\n",
    "      from history a\n",
    "     limit 10\n",
    "\"\"\").toPandas()"
   ]
  },
  {
   "cell_type": "code",
   "execution_count": null,
   "metadata": {},
   "outputs": [],
   "source": []
  }
 ],
 "metadata": {
  "kernelspec": {
   "display_name": "Python 3",
   "language": "python",
   "name": "python3"
  },
  "language_info": {
   "codemirror_mode": {
    "name": "ipython",
    "version": 3
   },
   "file_extension": ".py",
   "mimetype": "text/x-python",
   "name": "python",
   "nbconvert_exporter": "python",
   "pygments_lexer": "ipython3",
   "version": "3.7.4"
  }
 },
 "nbformat": 4,
 "nbformat_minor": 2
}
